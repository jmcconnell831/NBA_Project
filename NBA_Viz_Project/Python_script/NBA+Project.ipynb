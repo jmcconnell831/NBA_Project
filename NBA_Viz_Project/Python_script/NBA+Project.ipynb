{
 "cells": [
  {
   "cell_type": "markdown",
   "metadata": {},
   "source": [
    "Import Pandas"
   ]
  },
  {
   "cell_type": "code",
   "execution_count": null,
   "metadata": {
    "collapsed": false
   },
   "outputs": [],
   "source": [
    "import pandas as pd\n",
    "import numpy as np"
   ]
  },
  {
   "cell_type": "markdown",
   "metadata": {},
   "source": [
    "List available datasources for NBA Project"
   ]
  },
  {
   "cell_type": "code",
   "execution_count": null,
   "metadata": {
    "collapsed": false,
    "scrolled": true
   },
   "outputs": [],
   "source": [
    "! ls *.csv"
   ]
  },
  {
   "cell_type": "markdown",
   "metadata": {},
   "source": [
    "Code to display multiple outputs"
   ]
  },
  {
   "cell_type": "code",
   "execution_count": null,
   "metadata": {
    "collapsed": true
   },
   "outputs": [],
   "source": [
    "from IPython.core.interactiveshell import InteractiveShell\n",
    "InteractiveShell.ast_node_interactivity = \"all\""
   ]
  },
  {
   "cell_type": "markdown",
   "metadata": {},
   "source": [
    "Review fanvotes.csv"
   ]
  },
  {
   "cell_type": "code",
   "execution_count": null,
   "metadata": {
    "collapsed": false,
    "scrolled": true
   },
   "outputs": [],
   "source": [
    "fan_votes = pd.read_csv('fanvotes.csv')\n",
    "fan_votes.head()\n",
    "fan_votes.tail()"
   ]
  },
  {
   "cell_type": "markdown",
   "metadata": {},
   "source": [
    "Clean file- keeping Player Name and Total Votes (rename to Fan Votes)"
   ]
  },
  {
   "cell_type": "code",
   "execution_count": null,
   "metadata": {
    "collapsed": false
   },
   "outputs": [],
   "source": [
    "fan_votes.rename(columns = {'Player Name':'Player'}, inplace = True)\n",
    "fan_votes.rename(columns = {'Total Votes':'Fan Votes'}, inplace = True)\n",
    "clean_fanvotes = fan_votes[['Player','Fan Votes']]\n",
    "clean_fanvotes.head()"
   ]
  },
  {
   "cell_type": "markdown",
   "metadata": {},
   "source": [
    "Export clean file"
   ]
  },
  {
   "cell_type": "code",
   "execution_count": null,
   "metadata": {
    "collapsed": true
   },
   "outputs": [],
   "source": [
    "clean_fanvotes.to_csv('final_fanvotes.csv', index=False)"
   ]
  },
  {
   "cell_type": "markdown",
   "metadata": {},
   "source": [
    "Review playervotes.csv"
   ]
  },
  {
   "cell_type": "code",
   "execution_count": null,
   "metadata": {
    "collapsed": false,
    "scrolled": true
   },
   "outputs": [],
   "source": [
    "player_votes = pd.read_csv('playervotes.csv')\n",
    "player_votes.head()\n",
    "player_votes.tail()"
   ]
  },
  {
   "cell_type": "markdown",
   "metadata": {},
   "source": [
    "Clean file- keeping Player Name and Total Votes (rename to Player Votes)"
   ]
  },
  {
   "cell_type": "code",
   "execution_count": null,
   "metadata": {
    "collapsed": false,
    "scrolled": false
   },
   "outputs": [],
   "source": [
    "player_votes.rename(columns = {'Player Name':'Player'}, inplace = True)\n",
    "player_votes.rename(columns = {'Total Votes':'Player Votes'}, inplace = True)\n",
    "clean_playervotes = player_votes[['Player','Player Votes']]\n",
    "clean_playervotes.head()"
   ]
  },
  {
   "cell_type": "markdown",
   "metadata": {},
   "source": [
    "Export clean file"
   ]
  },
  {
   "cell_type": "code",
   "execution_count": null,
   "metadata": {
    "collapsed": true
   },
   "outputs": [],
   "source": [
    "clean_playervotes.to_csv('final_playervotes.csv', index=False)"
   ]
  },
  {
   "cell_type": "markdown",
   "metadata": {},
   "source": [
    "Review salary.csv"
   ]
  },
  {
   "cell_type": "code",
   "execution_count": null,
   "metadata": {
    "collapsed": false,
    "scrolled": true
   },
   "outputs": [],
   "source": [
    "salary = pd.read_csv('salary.csv')\n",
    "salary.head()\n",
    "salary.tail()"
   ]
  },
  {
   "cell_type": "markdown",
   "metadata": {},
   "source": [
    "Clean file- keeping Player Name and Salary in $"
   ]
  },
  {
   "cell_type": "code",
   "execution_count": null,
   "metadata": {
    "collapsed": false
   },
   "outputs": [],
   "source": [
    "salary.rename(columns = {'2016-17':'Salary'}, inplace = True)\n",
    "clean_salaries = salary[['Player','Salary']]\n",
    "clean_salaries.head()\n",
    "clean_salaries.tail()"
   ]
  },
  {
   "cell_type": "markdown",
   "metadata": {},
   "source": [
    "Export clean file"
   ]
  },
  {
   "cell_type": "code",
   "execution_count": null,
   "metadata": {
    "collapsed": true
   },
   "outputs": [],
   "source": [
    "clean_salaries.to_csv('final_salaries.csv', index=False)"
   ]
  },
  {
   "cell_type": "markdown",
   "metadata": {},
   "source": [
    "Review stats.csv"
   ]
  },
  {
   "cell_type": "code",
   "execution_count": null,
   "metadata": {
    "collapsed": false
   },
   "outputs": [],
   "source": [
    "stats = pd.read_csv('stats.csv')\n",
    "stats.head()\n",
    "stats.tail()"
   ]
  },
  {
   "cell_type": "markdown",
   "metadata": {},
   "source": [
    "Clean file- keeping only relevant statsistics"
   ]
  },
  {
   "cell_type": "code",
   "execution_count": null,
   "metadata": {
    "collapsed": false,
    "scrolled": true
   },
   "outputs": [],
   "source": [
    "stats.rename(columns = {'TRB':'RB'}, inplace = True)\n",
    "stats.rename(columns = {'TOV':'TO'}, inplace = True)\n",
    "clean_stats = stats[['Player','Age','Tm','G','MP','FG','FGA','FG%','3P','3PA','3P%','2P','2PA','2P%','eFG%','FT','FTA','FT%','RB','AST','STL','BLK','TO','PTS']]\n",
    "clean_stats.head()\n",
    "clean_stats.tail()"
   ]
  },
  {
   "cell_type": "markdown",
   "metadata": {},
   "source": [
    "Export clean file"
   ]
  },
  {
   "cell_type": "code",
   "execution_count": null,
   "metadata": {
    "collapsed": true
   },
   "outputs": [],
   "source": [
    "clean_stats.to_csv('final_stats.csv', index=False)"
   ]
  },
  {
   "cell_type": "markdown",
   "metadata": {},
   "source": [
    "Review teamstandings.csv"
   ]
  },
  {
   "cell_type": "code",
   "execution_count": null,
   "metadata": {
    "collapsed": false
   },
   "outputs": [],
   "source": [
    "teamstandings = pd.read_csv('teamstandings.csv')\n",
    "teamstandings.head()\n",
    "teamstandings.tail()"
   ]
  },
  {
   "cell_type": "markdown",
   "metadata": {},
   "source": [
    "Clean file- keeping only Tm and W"
   ]
  },
  {
   "cell_type": "code",
   "execution_count": null,
   "metadata": {
    "collapsed": false
   },
   "outputs": [],
   "source": [
    "clean_teamstandings = teamstandings[['Tm','W']]\n",
    "clean_teamstandings.head()\n",
    "clean_teamstandings.tail()"
   ]
  },
  {
   "cell_type": "markdown",
   "metadata": {},
   "source": [
    "Export clean file"
   ]
  },
  {
   "cell_type": "code",
   "execution_count": null,
   "metadata": {
    "collapsed": true
   },
   "outputs": [],
   "source": [
    "clean_teamstandings.to_csv('final_teamstandings.csv', index=False)"
   ]
  },
  {
   "cell_type": "markdown",
   "metadata": {},
   "source": [
    "Combines Sheets"
   ]
  },
  {
   "cell_type": "code",
   "execution_count": null,
   "metadata": {
    "collapsed": false
   },
   "outputs": [],
   "source": [
    "NBA_data1 = pd.merge(clean_stats, clean_salaries, on='Player', how='outer')\n",
    "NBA_data2 = pd.merge(NBA_data1, clean_fanvotes, on='Player', how='outer')\n",
    "NBA_data3 = pd.merge(NBA_data2, clean_playervotes, on='Player', how='outer')\n",
    "NBA_data = pd.merge(NBA_data3, clean_teamstandings, on='Tm', how='outer')\n",
    "NBA_data.head()\n",
    "NBA_data.tail()"
   ]
  },
  {
   "cell_type": "markdown",
   "metadata": {},
   "source": [
    "Replace Null values with 0 in relevant columns"
   ]
  },
  {
   "cell_type": "code",
   "execution_count": null,
   "metadata": {
    "collapsed": false,
    "scrolled": false
   },
   "outputs": [],
   "source": [
    "NBA_data['Salary']=NBA_data['Salary'].fillna(0)\n",
    "NBA_data['Fan Votes']=NBA_data['Fan Votes'].fillna(0)\n",
    "NBA_data['Player Votes']=NBA_data['Player Votes'].fillna(0)\n",
    "NBA_data.head()\n",
    "NBA_data.tail()"
   ]
  },
  {
   "cell_type": "markdown",
   "metadata": {},
   "source": [
    "Reformat Salary from string to Int"
   ]
  },
  {
   "cell_type": "markdown",
   "metadata": {},
   "source": [
    "Add columns calculating stats per $ spent and stats adjusted for Games Played"
   ]
  },
  {
   "cell_type": "code",
   "execution_count": null,
   "metadata": {
    "collapsed": false,
    "scrolled": false
   },
   "outputs": [],
   "source": [
    "NBA_data['$/ G'] = NBA_data.Salary / NBA_data['G']\n",
    "NBA_data['$/ MP'] = NBA_data.Salary / NBA_data['MP']\n",
    "NBA_data['$/ FG'] = NBA_data.Salary / NBA_data['FG']\n",
    "NBA_data['$/ FGA'] = NBA_data.Salary / NBA_data['FGA']\n",
    "NBA_data['$/ FG%'] = NBA_data.Salary / NBA_data['FG%']\n",
    "NBA_data['$/ 3P'] = NBA_data.Salary / NBA_data['3P']\n",
    "NBA_data['$/ 3PA'] = NBA_data.Salary / NBA_data['3PA']\n",
    "NBA_data['$/ 3P%'] = NBA_data.Salary / NBA_data['3P%']\n",
    "NBA_data['$/ 2P'] = NBA_data.Salary / NBA_data['2P']\n",
    "NBA_data['$/ 2PA'] = NBA_data.Salary / NBA_data['2PA']\n",
    "NBA_data['$/ 2P%'] = NBA_data.Salary / NBA_data['2P%']\n",
    "NBA_data['$/ eFG%'] = NBA_data.Salary / NBA_data['eFG%']\n",
    "NBA_data['$/ FT'] = NBA_data.Salary / NBA_data['FT']\n",
    "NBA_data['$/ FTA'] = NBA_data.Salary / NBA_data['FTA']\n",
    "NBA_data['$/ FT%'] = NBA_data.Salary / NBA_data['FT%']\n",
    "NBA_data['$/ RB'] = NBA_data.Salary / NBA_data['RB']\n",
    "NBA_data['$/ AST'] = NBA_data.Salary / NBA_data['AST']\n",
    "NBA_data['$/ STL'] = NBA_data.Salary / NBA_data['STL']\n",
    "NBA_data['$/ BLK'] = NBA_data.Salary / NBA_data['BLK']\n",
    "NBA_data['$/ TO'] = NBA_data.Salary / NBA_data['TO']\n",
    "NBA_data['$/ PTS'] = NBA_data.Salary / NBA_data['PTS']\n",
    "\n",
    "NBA_data['min/ G'] = NBA_data['MP'] / NBA_data.G\n",
    "NBA_data['FG /gp'] = NBA_data['FG'] / NBA_data.G\n",
    "NBA_data['FGA /gp'] = NBA_data['FGA'] / NBA_data.G\n",
    "NBA_data['FG% /gp'] = NBA_data['FG%'] / NBA_data.G\n",
    "NBA_data['3P /gp'] = NBA_data['3P'] / NBA_data.G\n",
    "NBA_data['3PA /gp'] = NBA_data['3PA'] / NBA_data.G\n",
    "NBA_data['3P% /gp'] = NBA_data['3P%'] / NBA_data.G\n",
    "NBA_data['2P /gp'] = NBA_data['2P'] / NBA_data.G\n",
    "NBA_data['2PA /gp'] = NBA_data['2PA'] / NBA_data.G\n",
    "NBA_data['2P% /gp'] = NBA_data['2P%'] / NBA_data.G\n",
    "NBA_data['eFG% /gp'] = NBA_data['eFG%'] / NBA_data.G\n",
    "NBA_data['FT /gp'] = NBA_data['FT'] / NBA_data.G\n",
    "NBA_data['FTA /gp'] = NBA_data['FTA'] / NBA_data.G\n",
    "NBA_data['FT% /gp'] = NBA_data['FT%'] / NBA_data.G\n",
    "NBA_data['RB /gp'] = NBA_data['RB'] / NBA_data.G\n",
    "NBA_data['AST /gp'] = NBA_data['AST'] / NBA_data.G\n",
    "NBA_data['STL /gp'] = NBA_data['STL'] / NBA_data.G\n",
    "NBA_data['BLK /gp'] = NBA_data['BLK'] / NBA_data.G\n",
    "NBA_data['TO /gp'] = NBA_data['TO'] / NBA_data.G\n",
    "NBA_data['PTS /gp'] = NBA_data['PTS'] / NBA_data.G\n",
    "NBA_data.head()\n",
    "NBA_data.tail()"
   ]
  },
  {
   "cell_type": "markdown",
   "metadata": {},
   "source": [
    "Remove invalid divisions"
   ]
  },
  {
   "cell_type": "code",
   "execution_count": null,
   "metadata": {
    "collapsed": false
   },
   "outputs": [],
   "source": [
    "NBA_data[NBA_data == np.Inf] = np.NaN"
   ]
  },
  {
   "cell_type": "markdown",
   "metadata": {},
   "source": [
    "Export clean file"
   ]
  },
  {
   "cell_type": "code",
   "execution_count": null,
   "metadata": {
    "collapsed": true
   },
   "outputs": [],
   "source": [
    "NBA_data.to_csv('final_NBAdata.csv', index=False)"
   ]
  },
  {
   "cell_type": "markdown",
   "metadata": {},
   "source": [
    "Creat filler column for ranking"
   ]
  },
  {
   "cell_type": "code",
   "execution_count": null,
   "metadata": {
    "collapsed": false,
    "scrolled": true
   },
   "outputs": [],
   "source": [
    "NBA_data['filler'] = NBA_data.groupby('Player')['G'].rank(ascending=False)\n",
    "NBA_data.head()"
   ]
  },
  {
   "cell_type": "markdown",
   "metadata": {},
   "source": [
    "Add ranks to every column where positive attributes are ascending and negative attributes (ie TO) are descending"
   ]
  },
  {
   "cell_type": "code",
   "execution_count": null,
   "metadata": {
    "collapsed": false,
    "scrolled": true
   },
   "outputs": [],
   "source": [
    "NBA_data['G Rank'] = NBA_data.groupby('filler')['G'].rank(ascending=False)\n",
    "NBA_data['MP Rank'] = NBA_data.groupby('filler')['MP'].rank(ascending=False)\n",
    "NBA_data['FG Rank'] = NBA_data.groupby('filler')['FG'].rank(ascending=False)\n",
    "NBA_data['FGA Rank'] = NBA_data.groupby('filler')['FGA'].rank(ascending=False)\n",
    "NBA_data['FG% Rank'] = NBA_data.groupby('filler')['FG%'].rank(ascending=False)\n",
    "NBA_data['3P Rank'] = NBA_data.groupby('filler')['3P'].rank(ascending=False)\n",
    "NBA_data['3PA Rank'] = NBA_data.groupby('filler')['3PA'].rank(ascending=False)\n",
    "NBA_data['3P% Rank'] = NBA_data.groupby('filler')['3P%'].rank(ascending=False)\n",
    "NBA_data['2P Rank'] = NBA_data.groupby('filler')['2P'].rank(ascending=False)\n",
    "NBA_data['2PA Rank'] = NBA_data.groupby('filler')['2PA'].rank(ascending=False)\n",
    "NBA_data['2P% Rank'] = NBA_data.groupby('filler')['2P%'].rank(ascending=False)\n",
    "NBA_data['eFG% Rank'] = NBA_data.groupby('filler')['eFG%'].rank(ascending=False)\n",
    "NBA_data['FT Rank'] = NBA_data.groupby('filler')['FT'].rank(ascending=False)\n",
    "NBA_data['FTA Rank'] = NBA_data.groupby('filler')['FTA'].rank(ascending=False)\n",
    "NBA_data['FT% Rank'] = NBA_data.groupby('filler')['FT%'].rank(ascending=False)\n",
    "NBA_data['RB Rank'] = NBA_data.groupby('filler')['RB'].rank(ascending=False)\n",
    "NBA_data['AST Rank'] = NBA_data.groupby('filler')['AST'].rank(ascending=False)\n",
    "NBA_data['STL Rank'] = NBA_data.groupby('filler')['STL'].rank(ascending=False)\n",
    "NBA_data['BLK Rank'] = NBA_data.groupby('filler')['BLK'].rank(ascending=False)\n",
    "NBA_data['TO Rank'] = NBA_data.groupby('filler')['TO'].rank(ascending=True)\n",
    "NBA_data['PTS Rank'] = NBA_data.groupby('filler')['PTS'].rank(ascending=False)\n",
    "NBA_data['Salary Rank'] = NBA_data.groupby('filler')['Salary'].rank(ascending=True)\n",
    "NBA_data['Fan Votes Rank'] = NBA_data.groupby('filler')['Fan Votes'].rank(ascending=False)\n",
    "NBA_data['Player Votes Rank'] = NBA_data.groupby('filler')['Player Votes'].rank(ascending=False)\n",
    "NBA_data['W Rank'] = NBA_data.groupby('filler')['W'].rank(ascending=False)\n",
    "NBA_data['$/ G Rank'] = NBA_data.groupby('filler')['$/ G'].rank(ascending=True)\n",
    "NBA_data['$/ MP Rank'] = NBA_data.groupby('filler')['$/ MP'].rank(ascending=True)\n",
    "NBA_data['$/ FG Rank'] = NBA_data.groupby('filler')['$/ FG'].rank(ascending=True)\n",
    "NBA_data['$/ FGA Rank'] = NBA_data.groupby('filler')['$/ FGA'].rank(ascending=True)\n",
    "NBA_data['$/ FG% Rank'] = NBA_data.groupby('filler')['$/ FG%'].rank(ascending=True)\n",
    "NBA_data['$/ 3P Rank'] = NBA_data.groupby('filler')['$/ 3P'].rank(ascending=True)\n",
    "NBA_data['$/ 3PA Rank'] = NBA_data.groupby('filler')['$/ 3PA'].rank(ascending=True)\n",
    "NBA_data['$/ 3P% Rank'] = NBA_data.groupby('filler')['$/ 3P%'].rank(ascending=True)\n",
    "NBA_data['$/ 2P Rank'] = NBA_data.groupby('filler')['$/ 2P'].rank(ascending=True)\n",
    "NBA_data['$/ 2PA Rank'] = NBA_data.groupby('filler')['$/ 2PA'].rank(ascending=True)\n",
    "NBA_data['$/ 2P% Rank'] = NBA_data.groupby('filler')['$/ 2P%'].rank(ascending=True)\n",
    "NBA_data['$/ eFG% Rank'] = NBA_data.groupby('filler')['$/ eFG%'].rank(ascending=True)\n",
    "NBA_data['$/ FT Rank'] = NBA_data.groupby('filler')['$/ FT'].rank(ascending=True)\n",
    "NBA_data['$/ FTA Rank'] = NBA_data.groupby('filler')['$/ FTA'].rank(ascending=True)\n",
    "NBA_data['$/ FT% Rank'] = NBA_data.groupby('filler')['$/ FT%'].rank(ascending=True)\n",
    "NBA_data['$/ RB Rank'] = NBA_data.groupby('filler')['$/ RB'].rank(ascending=True)\n",
    "NBA_data['$/ AST Rank'] = NBA_data.groupby('filler')['$/ AST'].rank(ascending=True)\n",
    "NBA_data['$/ STL Rank'] = NBA_data.groupby('filler')['$/ STL'].rank(ascending=True)\n",
    "NBA_data['$/ BLK Rank'] = NBA_data.groupby('filler')['$/ BLK'].rank(ascending=True)\n",
    "NBA_data['$/ TO Rank'] = NBA_data.groupby('filler')['$/ TO'].rank(ascending=True)\n",
    "NBA_data['$/ PTS Rank'] = NBA_data.groupby('filler')['$/ PTS'].rank(ascending=True)\n",
    "NBA_data['min/ G Rank'] = NBA_data.groupby('filler')['min/ G'].rank(ascending=False)\n",
    "NBA_data['FG /gp Rank'] = NBA_data.groupby('filler')['FG /gp'].rank(ascending=False)\n",
    "NBA_data['FGA /gp Rank'] = NBA_data.groupby('filler')['FGA /gp'].rank(ascending=False)\n",
    "NBA_data['FG% /gp Rank'] = NBA_data.groupby('filler')['FG% /gp'].rank(ascending=False)\n",
    "NBA_data['3P /gp Rank'] = NBA_data.groupby('filler')['3P /gp'].rank(ascending=False)\n",
    "NBA_data['3PA /gp Rank'] = NBA_data.groupby('filler')['3PA /gp'].rank(ascending=False)\n",
    "NBA_data['3P% /gp Rank'] = NBA_data.groupby('filler')['3P% /gp'].rank(ascending=False)\n",
    "NBA_data['2P /gp Rank'] = NBA_data.groupby('filler')['2P /gp'].rank(ascending=False)\n",
    "NBA_data['2PA /gp Rank'] = NBA_data.groupby('filler')['2PA /gp'].rank(ascending=False)\n",
    "NBA_data['2P% /gp Rank'] = NBA_data.groupby('filler')['2P% /gp'].rank(ascending=False)\n",
    "NBA_data['eFG% /gp Rank'] = NBA_data.groupby('filler')['eFG% /gp'].rank(ascending=False)\n",
    "NBA_data['FT /gp Rank'] = NBA_data.groupby('filler')['FT /gp'].rank(ascending=False)\n",
    "NBA_data['FTA /gp Rank'] = NBA_data.groupby('filler')['FTA /gp'].rank(ascending=False)\n",
    "NBA_data['FT% /gp Rank'] = NBA_data.groupby('filler')['FT% /gp'].rank(ascending=False)\n",
    "NBA_data['RB /gp Rank'] = NBA_data.groupby('filler')['RB /gp'].rank(ascending=False)\n",
    "NBA_data['AST /gp Rank'] = NBA_data.groupby('filler')['AST /gp'].rank(ascending=False)\n",
    "NBA_data['STL /gp Rank'] = NBA_data.groupby('filler')['STL /gp'].rank(ascending=False)\n",
    "NBA_data['BLK /gp Rank'] = NBA_data.groupby('filler')['BLK /gp'].rank(ascending=False)\n",
    "NBA_data['TO /gp Rank'] = NBA_data.groupby('filler')['TO /gp'].rank(ascending=True)\n",
    "NBA_data['PTS /gp Rank'] = NBA_data.groupby('filler')['PTS /gp'].rank(ascending=False)\n",
    "NBA_data.head()"
   ]
  },
  {
   "cell_type": "markdown",
   "metadata": {},
   "source": [
    "Pull rankings to own file"
   ]
  },
  {
   "cell_type": "code",
   "execution_count": null,
   "metadata": {
    "collapsed": true
   },
   "outputs": [],
   "source": [
    "rankings = NBA_data[['Player','Age','Tm','G Rank','MP Rank','FG Rank','FGA Rank','FG% Rank','3P Rank','3PA Rank','3P% Rank','2P Rank','2PA Rank','2P% Rank','eFG% Rank','FT Rank','FTA Rank','FT% Rank','RB Rank','AST Rank','STL Rank','BLK Rank','TO Rank','PTS Rank','Salary Rank','Fan Votes Rank','Player Votes Rank','W Rank','$/ G Rank','$/ MP Rank','$/ FG Rank','$/ FGA Rank','$/ FG% Rank','$/ 3P Rank','$/ 3PA Rank','$/ 3P% Rank','$/ 2P Rank','$/ 2PA Rank','$/ 2P% Rank','$/ eFG% Rank','$/ FT Rank','$/ FTA Rank','$/ FT% Rank','$/ RB Rank','$/ AST Rank','$/ STL Rank','$/ BLK Rank','$/ TO Rank','$/ PTS Rank','min/ G Rank','FG /gp Rank','FGA /gp Rank','FG% /gp Rank','3P /gp Rank','3PA /gp Rank','3P% /gp Rank','2P /gp Rank','2PA /gp Rank','2P% /gp Rank','eFG% /gp Rank','FT /gp Rank','FTA /gp Rank','FT% /gp Rank','RB /gp Rank','AST /gp Rank','STL /gp Rank','BLK /gp Rank','TO /gp Rank','PTS /gp Rank']]"
   ]
  },
  {
   "cell_type": "markdown",
   "metadata": {},
   "source": [
    "show rankings"
   ]
  },
  {
   "cell_type": "code",
   "execution_count": null,
   "metadata": {
    "collapsed": false,
    "scrolled": false
   },
   "outputs": [],
   "source": [
    "rankings"
   ]
  },
  {
   "cell_type": "markdown",
   "metadata": {},
   "source": [
    "Ranking categories for analysis"
   ]
  },
  {
   "cell_type": "code",
   "execution_count": null,
   "metadata": {
    "collapsed": false,
    "scrolled": true
   },
   "outputs": [],
   "source": [
    "rankings['Pure stat Rank'] = rankings[['FG Rank','FGA Rank','FG% Rank','3P Rank','3PA Rank','3P% Rank','2P Rank','2PA Rank','2P% Rank','eFG% Rank','FT Rank','FTA Rank','FT% Rank','RB Rank','AST Rank','STL Rank','BLK Rank','TO Rank','PTS Rank']].mean(axis=1)\n",
    "rankings['Stats adjusted to GP'] = rankings[['min/ G Rank','FG /gp Rank','FGA /gp Rank','FG% /gp Rank','3P /gp Rank','3PA /gp Rank','3P% /gp Rank','2P /gp Rank','2PA /gp Rank','2P% /gp Rank','eFG% /gp Rank','FT /gp Rank','FTA /gp Rank','FT% /gp Rank','RB /gp Rank','AST /gp Rank','STL /gp Rank','BLK /gp Rank','TO /gp Rank','PTS /gp Rank']].mean(axis=1)\n",
    "rankings['Adjusted for salary'] = rankings[['$/ G Rank','$/ MP Rank','$/ FG Rank','$/ FGA Rank','$/ FG% Rank','$/ 3P Rank','$/ 3PA Rank','$/ 3P% Rank','$/ 2P Rank','$/ 2PA Rank','$/ 2P% Rank','$/ eFG% Rank','$/ FT Rank','$/ FTA Rank','$/ FT% Rank','$/ RB Rank','$/ AST Rank','$/ STL Rank','$/ BLK Rank','$/ TO Rank','$/ PTS Rank']].mean(axis=1)\n",
    "rankings['Popularity (votes)'] = rankings[['Fan Votes Rank','Player Votes Rank']].mean(axis=1)\n"
   ]
  },
  {
   "cell_type": "markdown",
   "metadata": {},
   "source": [
    "Extract rankings"
   ]
  },
  {
   "cell_type": "code",
   "execution_count": null,
   "metadata": {
    "collapsed": false
   },
   "outputs": [],
   "source": [
    "rankings"
   ]
  },
  {
   "cell_type": "code",
   "execution_count": null,
   "metadata": {
    "collapsed": false
   },
   "outputs": [],
   "source": [
    "Summary = rankings[['Player','Age','Tm','Pure stat Rank','Stats adjusted to GP','Adjusted for salary','W Rank','Popularity (votes)']]\n",
    "Summary"
   ]
  },
  {
   "cell_type": "markdown",
   "metadata": {},
   "source": [
    "Export Final data"
   ]
  },
  {
   "cell_type": "code",
   "execution_count": null,
   "metadata": {
    "collapsed": true
   },
   "outputs": [],
   "source": [
    "Summary.to_csv('final_Summary.csv', index=False)"
   ]
  },
  {
   "cell_type": "code",
   "execution_count": null,
   "metadata": {
    "collapsed": true
   },
   "outputs": [],
   "source": []
  }
 ],
 "metadata": {
  "kernelspec": {
   "display_name": "Python 3",
   "language": "python",
   "name": "python3"
  },
  "language_info": {
   "codemirror_mode": {
    "name": "ipython",
    "version": 3
   },
   "file_extension": ".py",
   "mimetype": "text/x-python",
   "name": "python",
   "nbconvert_exporter": "python",
   "pygments_lexer": "ipython3",
   "version": "3.6.0"
  }
 },
 "nbformat": 4,
 "nbformat_minor": 2
}
